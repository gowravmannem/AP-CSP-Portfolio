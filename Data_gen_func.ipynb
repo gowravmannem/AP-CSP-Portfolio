{
  "nbformat": 4,
  "nbformat_minor": 0,
  "metadata": {
    "colab": {
      "provenance": [],
      "authorship_tag": "ABX9TyOFYaLOeoL4E9rQxxSo2QSY",
      "include_colab_link": true
    },
    "kernelspec": {
      "name": "python3",
      "display_name": "Python 3"
    },
    "language_info": {
      "name": "python"
    }
  },
  "cells": [
    {
      "cell_type": "markdown",
      "metadata": {
        "id": "view-in-github",
        "colab_type": "text"
      },
      "source": [
        "<a href=\"https://colab.research.google.com/github/gowravmannem/AP-CSP-Portfolio/blob/master/Data_gen_func.ipynb\" target=\"_parent\"><img src=\"https://colab.research.google.com/assets/colab-badge.svg\" alt=\"Open In Colab\"/></a>"
      ]
    },
    {
      "cell_type": "code",
      "execution_count": 1,
      "metadata": {
        "id": "oflqJDZCvZlp"
      },
      "outputs": [],
      "source": [
        "import random\n",
        "from datetime import datetime, timedelta\n",
        "import pandas as pd"
      ]
    },
    {
      "cell_type": "code",
      "source": [
        "num_rows = 50 # num of datapoints we want generated\n",
        "def random_date(start, end):\n",
        "    return start + timedelta(seconds=random.randint(0, int((end - start).total_seconds())))"
      ],
      "metadata": {
        "id": "I0OYE6gvvkS9"
      },
      "execution_count": 2,
      "outputs": []
    },
    {
      "cell_type": "code",
      "source": [
        "# adjust as you please\n",
        "start_date = datetime(2024, 1, 1)\n",
        "end_date = datetime(2025, 1, 19)"
      ],
      "metadata": {
        "id": "sqdbC2x9voxv"
      },
      "execution_count": 3,
      "outputs": []
    },
    {
      "cell_type": "code",
      "source": [
        "data = []"
      ],
      "metadata": {
        "id": "fiJ5iaaZvw6P"
      },
      "execution_count": 4,
      "outputs": []
    },
    {
      "cell_type": "code",
      "source": [
        "for i in range(1011, 1011 + num_rows):\n",
        "    report_id = i\n",
        "    part_number = f\"PN-{random.randint(10000, 99999)}\"\n",
        "    mold_number = random.randint(1, 60)\n",
        "    fo_no = random.choice([random.randint(1, 20), None])\n",
        "    fo_quantity = random.choice([random.randint(1, 10), None])\n",
        "    machine_no = random.randint(1, 20)\n",
        "    date_of_report = random_date(start_date, end_date).strftime('%Y-%m-%d %H:%M:%S')\n",
        "    box_no = random.choice([f\"B-{random.randint(1, 50)}\", None])\n",
        "    reporter_no = random.randint(1000, 1100)\n",
        "    problem = random.choice([\n",
        "        \"Short shot\", \"Burn marks\", \"Flash\", \"Warping\", \"Sink marks\", \"Voids\", \"Jetting\",\n",
        "        \"Weld lines\", \"Splay\", \"Contamination\", \"Bubbles\", \"Cracking\", \"Surface defects\"])\n",
        "    problem_summary = problem + \" detected\"\n",
        "    corrector_no = random.randint(2000, 2100)\n",
        "    corrective_action = random.choice([\n",
        "        \"Increase injection pressure\", \"Reduce mold temperature\", \"Modify cooling time\",\n",
        "        \"Adjust injection speed\", \"Change gate location\", \"Improve venting\", \"Clean material hopper\",\n",
        "        \"Use different mold release agent\", \"Adjust holding pressure\", \"Increase back pressure\"])\n",
        "    material_pn = f\"MAT-{random.randint(1000, 9999)}\"\n",
        "    traceability_num = random.choice([f\"TR-{random.randint(1, 100)}\", None])\n",
        "    receiver_move_order_no = random.choice([f\"MO-{random.randint(5000, 5100)}\", None])\n",
        "    material_description = random.choice([\n",
        "        \"Polypropylene\", \"ABS\", \"Nylon 6\", \"Polycarbonate\", \"Polyethylene\", \"Acrylic\", \"POM\",\n",
        "        \"Polyester\", \"High-density polyethylene\", \"Polystyrene\", None])\n",
        "    date_of_fix = random_date(datetime.strptime(date_of_report, '%Y-%m-%d %H:%M:%S'), end_date).strftime('%Y-%m-%d %H:%M:%S')\n",
        "\n",
        "    data.append([report_id, part_number, mold_number, fo_no, fo_quantity, machine_no, date_of_report,\n",
        "                 box_no, reporter_no, problem, problem_summary, corrector_no, corrective_action,\n",
        "                 material_pn, traceability_num, receiver_move_order_no, material_description, date_of_fix])"
      ],
      "metadata": {
        "id": "wwpUbElHv25P"
      },
      "execution_count": 5,
      "outputs": []
    },
    {
      "cell_type": "code",
      "source": [
        "df = pd.DataFrame(data, columns=[\n",
        "    \"Report ID\", \"Part Number\", \"Mold Number\", \"F.O N.O.\", \"F.O. Quantity\", \"Machine No.\", \"Date of report\",\n",
        "    \"Box No.\", \"Reporter No.\", \"Problem\", \"Problem Summary/Title\", \"Corrector No.\", \"Corrective Action\",\n",
        "    \"Material PN\", \"Traceability Num\", \"Receiver/Move Order No\", \"Material Description\", \"Date of fix\"\n",
        "])"
      ],
      "metadata": {
        "id": "Tqbrfnimv7tg"
      },
      "execution_count": 6,
      "outputs": []
    },
    {
      "cell_type": "code",
      "source": [
        "print(df.head())"
      ],
      "metadata": {
        "colab": {
          "base_uri": "https://localhost:8080/"
        },
        "id": "L_p7i9VUv-Wz",
        "outputId": "e6921bb2-da53-4bf6-8150-be7dbec3c076"
      },
      "execution_count": 7,
      "outputs": [
        {
          "output_type": "stream",
          "name": "stdout",
          "text": [
            "   Report ID Part Number  Mold Number  F.O N.O.  F.O. Quantity  Machine No.  \\\n",
            "0       1011    PN-53707           40       NaN            3.0           16   \n",
            "1       1012    PN-56359           36      10.0            NaN           11   \n",
            "2       1013    PN-20221           48      19.0            8.0            2   \n",
            "3       1014    PN-19000           26       5.0            NaN            4   \n",
            "4       1015    PN-55566           39       7.0            4.0           20   \n",
            "\n",
            "        Date of report Box No.  Reporter No.          Problem  \\\n",
            "0  2024-12-30 20:54:49    None          1040  Surface defects   \n",
            "1  2024-02-01 14:41:15    B-43          1046            Flash   \n",
            "2  2024-08-29 12:38:43    None          1009  Surface defects   \n",
            "3  2024-11-24 12:01:22    B-40          1007       Sink marks   \n",
            "4  2024-05-12 12:40:19    B-15          1064            Voids   \n",
            "\n",
            "      Problem Summary/Title  Corrector No.        Corrective Action  \\\n",
            "0  Surface defects detected           2037    Clean material hopper   \n",
            "1            Flash detected           2041    Clean material hopper   \n",
            "2  Surface defects detected           2075  Adjust holding pressure   \n",
            "3       Sink marks detected           2004      Modify cooling time   \n",
            "4            Voids detected           2003      Modify cooling time   \n",
            "\n",
            "  Material PN Traceability Num Receiver/Move Order No Material Description  \\\n",
            "0    MAT-4277            TR-82                   None                 None   \n",
            "1    MAT-2078             None                   None                  ABS   \n",
            "2    MAT-3946             None                   None                 None   \n",
            "3    MAT-8284             None                   None                  ABS   \n",
            "4    MAT-3068             None                   None        Polypropylene   \n",
            "\n",
            "           Date of fix  \n",
            "0  2025-01-10 22:10:41  \n",
            "1  2024-08-13 18:02:11  \n",
            "2  2024-10-29 04:33:56  \n",
            "3  2024-12-17 04:50:41  \n",
            "4  2024-12-23 00:53:25  \n"
          ]
        }
      ]
    },
    {
      "cell_type": "code",
      "source": [
        "df.to_excel(\"plastic_molding_reports.xlsx\", index=False)"
      ],
      "metadata": {
        "id": "EAPV5r9qwNob"
      },
      "execution_count": 9,
      "outputs": []
    }
  ]
}